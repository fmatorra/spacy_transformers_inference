{
 "cells": [
  {
   "cell_type": "markdown",
   "metadata": {},
   "source": [
    "## Spacy and Displacy para la inferencia"
   ]
  },
  {
   "cell_type": "code",
   "execution_count": 1,
   "metadata": {},
   "outputs": [],
   "source": [
    "import spacy\n",
    "from transformers import *\n",
    "import pandas as pd\n",
    "import numpy as np"
   ]
  },
  {
   "cell_type": "code",
   "execution_count": 2,
   "metadata": {},
   "outputs": [],
   "source": [
    "from spacy import displacy\n",
    "colors = {\"B-Diagnóstico\": \"#00FF00\",\n",
    "        \"I-Diagnóstico\": \"#00FF00\",\n",
    "        \"B-Antecedentes\": \"#FFFF00\",\n",
    "        \"I-Antecedentes\": \"#FFFF00\",\n",
    "        \"B-Objetivo\": \"#FF00FF\",\n",
    "        \"I-Objetivo\": \"#FF00FF\"}\n",
    "options = {\"ents\": [\"B-Diagnóstico\", \"I-Diagnóstico\", \"B-Antecedentes\",\n",
    "                    \"I-Antecedentes\", \"B-Objetivo\", \"I-Objetivo\"], \"colors\":colors}"
   ]
  },
  {
   "cell_type": "code",
   "execution_count": 3,
   "metadata": {},
   "outputs": [],
   "source": [
    "df_test = pd.read_csv('petctreports_sp.csv')\n",
    "studies = df_test['StrippedReport'].to_list()"
   ]
  },
  {
   "cell_type": "code",
   "execution_count": 4,
   "metadata": {},
   "outputs": [],
   "source": [
    "# load BERT model fine-tuned for Named Entity Recognition (NER)\n",
    "ner = pipeline(\"ner\", model=\"./roberta-base-biomedical-clinical-es-NER\")"
   ]
  },
  {
   "cell_type": "code",
   "execution_count": 5,
   "metadata": {},
   "outputs": [],
   "source": [
    "def get_entities_html(text, ner_result, title=None):\n",
    "    \"\"\"Visualize NER with the help of SpaCy\"\"\"\n",
    "    ents = []\n",
    "    for ent in ner_result:\n",
    "        e = {}\n",
    "        # add the start and end positions of the entity\n",
    "        e[\"start\"] = ent[\"start\"]\n",
    "        e[\"end\"] = ent[\"end\"]\n",
    "        # add the score if you want in the label\n",
    "        # e[\"label\"] = f\"{ent[\"entity\"]}-{ent['score']:.2f}\"\n",
    "        e[\"label\"] = ent[\"entity\"]\n",
    "        if ents and -1 <= ent[\"start\"] - ents[-1][\"end\"] <= 1 and ents[-1][\"label\"] == e[\"label\"]:\n",
    "            # if the current entity is shared with previous entity\n",
    "            # simply extend the entity end position instead of adding a new one\n",
    "            ents[-1][\"end\"] = e[\"end\"]\n",
    "            continue\n",
    "        ents.append(e)\n",
    "    # construct data required for displacy.render() method\n",
    "    render_data = [\n",
    "        {\n",
    "        \"text\": text,\n",
    "        \"ents\": ents,\n",
    "        \"title\": title,\n",
    "        }\n",
    "    ]\n",
    "    displacy.render(render_data, style=\"ent\", manual=True, jupyter=True, options=options)\n",
    "    #spacy.displacy.render(render_data, style=\"ent\")\n",
    "    #return render_data"
   ]
  },
  {
   "cell_type": "code",
   "execution_count": 6,
   "metadata": {},
   "outputs": [
    {
     "data": {
      "text/html": [
       "<span class=\"tex2jax_ignore\"><div class=\"entities\" style=\"line-height: 2.5; direction: ltr\">Antecedentes Paciente de 50 años de edad con diagnóstico de \n",
       "<mark class=\"entity\" style=\"background: #00FF00; padding: 0.45em 0.6em; margin: 0 0.25em; line-height: 1; border-radius: 0.35em;\">\n",
       "    Linfoma\n",
       "    <span style=\"font-size: 0.8em; font-weight: bold; line-height: 1; border-radius: 0.35em; vertical-align: middle; margin-left: 0.5rem\">B-Diagnóstico</span>\n",
       "</mark>\n",
       " \n",
       "<mark class=\"entity\" style=\"background: #00FF00; padding: 0.45em 0.6em; margin: 0 0.25em; line-height: 1; border-radius: 0.35em;\">\n",
       "    folicular\n",
       "    <span style=\"font-size: 0.8em; font-weight: bold; line-height: 1; border-radius: 0.35em; vertical-align: middle; margin-left: 0.5rem\">I-Diagnóstico</span>\n",
       "</mark>\n",
       " en marzo 2012. La paciente recibió \n",
       "<mark class=\"entity\" style=\"background: #FFFF00; padding: 0.45em 0.6em; margin: 0 0.25em; line-height: 1; border-radius: 0.35em;\">\n",
       "    tratamiento\n",
       "    <span style=\"font-size: 0.8em; font-weight: bold; line-height: 1; border-radius: 0.35em; vertical-align: middle; margin-left: 0.5rem\">B-Antecedentes</span>\n",
       "</mark>\n",
       " \n",
       "<mark class=\"entity\" style=\"background: #FFFF00; padding: 0.45em 0.6em; margin: 0 0.25em; line-height: 1; border-radius: 0.35em;\">\n",
       "    quimioterápico\n",
       "    <span style=\"font-size: 0.8em; font-weight: bold; line-height: 1; border-radius: 0.35em; vertical-align: middle; margin-left: 0.5rem\">I-Antecedentes</span>\n",
       "</mark>\n",
       ". PET/CT para \n",
       "<mark class=\"entity\" style=\"background: #FF00FF; padding: 0.45em 0.6em; margin: 0 0.25em; line-height: 1; border-radius: 0.35em;\">\n",
       "    reestadificación\n",
       "    <span style=\"font-size: 0.8em; font-weight: bold; line-height: 1; border-radius: 0.35em; vertical-align: middle; margin-left: 0.5rem\">B-Objetivo</span>\n",
       "</mark>\n",
       ". Metodología El estudio se realizó luego de transcurrir 60 minutos de la administración endovenosa de 8.74 mCi de Flúor 18 Deoxi Glucosa (18FDG) con la constatación previa de 110mg/dl de glucemia en ayuno. Se adquirieron imágenes en 3D desde base del cráneo hasta tercio medio de miembros inferiores en un Tomógrafo por Emisión de Positrones PET/CT Discovery STE-16. Las imágenes luego fueron reconstruidas en cortes multiplanares. Resultado En las imágenes de PET/CT, se observa actividad metabólica fisiológica en cavidad oral, glándulas salivales y cuerdas vocales. No se observan adenopatías con captación anómala de FDG en cuello, ambas axilas, mediastino, abdomen y pelvis. Hígado y bazo de forma, tamaño y distribución habitual del radiotrazador. Moderada actividad fisiológica de FDG en el marco colónico. Ambos riñones funcionan y drenan adecuadamente. Resto del estudio abdomino-pelviano no presenta anomalías de captación del radiotrazador. Hallazgos ametabólicos en CT, se visualizan ambos campos pulmonares libres. Catéter central de quimioinfusión. El resto del estudio no presenta otros hallazgos significativos en las áreas exploradas. Conclusión El estudio PET/CT no evidencia captación patológica de radiotrazador. Comentario: comparativamente con estudio PET-CT con fecha 31/05/2014 (FCDN) se advierte respuesta favorable al tratamiento instaurado. </div></span>"
      ],
      "text/plain": [
       "<IPython.core.display.HTML object>"
      ]
     },
     "metadata": {},
     "output_type": "display_data"
    },
    {
     "data": {
      "text/html": [
       "<span class=\"tex2jax_ignore\"><div class=\"entities\" style=\"line-height: 2.5; direction: ltr\">Antecedentes Paciente de 68 años de edad con diagnóstico de \n",
       "<mark class=\"entity\" style=\"background: #00FF00; padding: 0.45em 0.6em; margin: 0 0.25em; line-height: 1; border-radius: 0.35em;\">\n",
       "    Ca\n",
       "    <span style=\"font-size: 0.8em; font-weight: bold; line-height: 1; border-radius: 0.35em; vertical-align: middle; margin-left: 0.5rem\">B-Diagnóstico</span>\n",
       "</mark>\n",
       "\n",
       "<mark class=\"entity\" style=\"background: #00FF00; padding: 0.45em 0.6em; margin: 0 0.25em; line-height: 1; border-radius: 0.35em;\">\n",
       "    . de recto\n",
       "    <span style=\"font-size: 0.8em; font-weight: bold; line-height: 1; border-radius: 0.35em; vertical-align: middle; margin-left: 0.5rem\">I-Diagnóstico</span>\n",
       "</mark>\n",
       ", \n",
       "<mark class=\"entity\" style=\"background: #FFFF00; padding: 0.45em 0.6em; margin: 0 0.25em; line-height: 1; border-radius: 0.35em;\">\n",
       "    operado\n",
       "    <span style=\"font-size: 0.8em; font-weight: bold; line-height: 1; border-radius: 0.35em; vertical-align: middle; margin-left: 0.5rem\">B-Antecedentes</span>\n",
       "</mark>\n",
       " (\n",
       "<mark class=\"entity\" style=\"background: #FFFF00; padding: 0.45em 0.6em; margin: 0 0.25em; line-height: 1; border-radius: 0.35em;\">\n",
       "    cirugía\n",
       "    <span style=\"font-size: 0.8em; font-weight: bold; line-height: 1; border-radius: 0.35em; vertical-align: middle; margin-left: 0.5rem\">B-Antecedentes</span>\n",
       "</mark>\n",
       " de \n",
       "<mark class=\"entity\" style=\"background: #FFFF00; padding: 0.45em 0.6em; margin: 0 0.25em; line-height: 1; border-radius: 0.35em;\">\n",
       "    Miles\n",
       "    <span style=\"font-size: 0.8em; font-weight: bold; line-height: 1; border-radius: 0.35em; vertical-align: middle; margin-left: 0.5rem\">I-Antecedentes</span>\n",
       "</mark>\n",
       ") en septiembre del 2014. El paciente recibió \n",
       "<mark class=\"entity\" style=\"background: #FFFF00; padding: 0.45em 0.6em; margin: 0 0.25em; line-height: 1; border-radius: 0.35em;\">\n",
       "    tratamiento\n",
       "    <span style=\"font-size: 0.8em; font-weight: bold; line-height: 1; border-radius: 0.35em; vertical-align: middle; margin-left: 0.5rem\">B-Antecedentes</span>\n",
       "</mark>\n",
       " \n",
       "<mark class=\"entity\" style=\"background: #FFFF00; padding: 0.45em 0.6em; margin: 0 0.25em; line-height: 1; border-radius: 0.35em;\">\n",
       "    quimioterápico y radiante\n",
       "    <span style=\"font-size: 0.8em; font-weight: bold; line-height: 1; border-radius: 0.35em; vertical-align: middle; margin-left: 0.5rem\">I-Antecedentes</span>\n",
       "</mark>\n",
       " en el 2014. Actualmente presenta imagen pulmonar en estudio. PET/CT para \n",
       "<mark class=\"entity\" style=\"background: #FF00FF; padding: 0.45em 0.6em; margin: 0 0.25em; line-height: 1; border-radius: 0.35em;\">\n",
       "    reestadificación\n",
       "    <span style=\"font-size: 0.8em; font-weight: bold; line-height: 1; border-radius: 0.35em; vertical-align: middle; margin-left: 0.5rem\">B-Objetivo</span>\n",
       "</mark>\n",
       ". Metodología El estudio se realizó luego de transcurrir 60 minutos de la administración endovenosa de 6.34mCi de Flúor 18 Deoxi Glucosa (18FDG) con la constatación previa de 85mg/dl de glucemia en ayuno. Se adquirieron imágenes en 3D desde base del cráneo hasta tercio medio de miembros inferiores en un Tomógrafo por Emisión de Positrones PET/CT Discovery STE-16. Las imágenes luego fueron reconstruidas en cortes multiplanares. Resultado En las imágenes de PET/CT, se observa actividad metabólica fisiológica en cavidad oral, glándulas salivales y cuerdas vocales. A nivel del lóbulo pulmonar inferior derecho, región posterior y paravertebral, a la altura de D12, se identifica imagen pseudonodular con moderada captación por el radiotrazador (SUVmax: 2.5) que mide aproximadamente 10x17mm de diámetro y presenta amplio contacto pleural. Además, se visualizan otras imágenes nodulillares pulmonares localizadas a nivel del lóbulo superior izquierdo y ambos lóbulos inferiores, las cuales se encuentran en el límite y por debajo del poder resolutivo del PET. Cambios morfológicos post-quirúrgicos en topografía rectal, advirtiéndose la presencia de densificación de las partes blandas presacras, sin evidenciarse foco con captación patológica de FDG. Hipocaptación del radiotrazador a nivel del cuerpo vertebral L5 y sacro debido a cambios post-actínicos. No se observan adenopatías con captación anómala de FDG en cuello, ambas axilas, mediastino, abdomen y pelvis. Hígado y bazo de forma, tamaño y distribución habitual del radiotrazador. Ambos riñones funcionan y drenan adecuadamente. Resto del estudio abdomino-pelviano no presenta anomalías de captación del radiotrazador. Hallazgos ametabólicos en TC Conclusión El estudio PET/CT evidencia imágenes nodulares pulmonares bilaterales, una de ellas, la de mayor tamaño, basal derecha, muestra moderada actividad metabólica, sugiriéndose su evaluación a fin de vincularla o no con su enfermedad de base. Resto del barrido corporal sin evidencia de captación patológica de FDG. </div></span>"
      ],
      "text/plain": [
       "<IPython.core.display.HTML object>"
      ]
     },
     "metadata": {},
     "output_type": "display_data"
    },
    {
     "data": {
      "text/html": [
       "<span class=\"tex2jax_ignore\"><div class=\"entities\" style=\"line-height: 2.5; direction: ltr\">Antecedentes Paciente de 60 años de edad con diagnóstico de \n",
       "<mark class=\"entity\" style=\"background: #00FF00; padding: 0.45em 0.6em; margin: 0 0.25em; line-height: 1; border-radius: 0.35em;\">\n",
       "    S\n",
       "    <span style=\"font-size: 0.8em; font-weight: bold; line-height: 1; border-radius: 0.35em; vertical-align: middle; margin-left: 0.5rem\">B-Diagnóstico</span>\n",
       "</mark>\n",
       "\n",
       "<mark class=\"entity\" style=\"background: #00FF00; padding: 0.45em 0.6em; margin: 0 0.25em; line-height: 1; border-radius: 0.35em;\">\n",
       "    arcoma de Kaposi\n",
       "    <span style=\"font-size: 0.8em; font-weight: bold; line-height: 1; border-radius: 0.35em; vertical-align: middle; margin-left: 0.5rem\">I-Diagnóstico</span>\n",
       "</mark>\n",
       ". El paciente recibió \n",
       "<mark class=\"entity\" style=\"background: #FFFF00; padding: 0.45em 0.6em; margin: 0 0.25em; line-height: 1; border-radius: 0.35em;\">\n",
       "    tratamiento\n",
       "    <span style=\"font-size: 0.8em; font-weight: bold; line-height: 1; border-radius: 0.35em; vertical-align: middle; margin-left: 0.5rem\">B-Antecedentes</span>\n",
       "</mark>\n",
       " \n",
       "<mark class=\"entity\" style=\"background: #FFFF00; padding: 0.45em 0.6em; margin: 0 0.25em; line-height: 1; border-radius: 0.35em;\">\n",
       "    quimioterapico\n",
       "    <span style=\"font-size: 0.8em; font-weight: bold; line-height: 1; border-radius: 0.35em; vertical-align: middle; margin-left: 0.5rem\">I-Antecedentes</span>\n",
       "</mark>\n",
       " (6 ciclos, último abril 2021). PET/CT para \n",
       "<mark class=\"entity\" style=\"background: #FF00FF; padding: 0.45em 0.6em; margin: 0 0.25em; line-height: 1; border-radius: 0.35em;\">\n",
       "    reestad\n",
       "    <span style=\"font-size: 0.8em; font-weight: bold; line-height: 1; border-radius: 0.35em; vertical-align: middle; margin-left: 0.5rem\">B-Objetivo</span>\n",
       "</mark>\n",
       "\n",
       "<mark class=\"entity\" style=\"background: #FFFF00; padding: 0.45em 0.6em; margin: 0 0.25em; line-height: 1; border-radius: 0.35em;\">\n",
       "    ificación\n",
       "    <span style=\"font-size: 0.8em; font-weight: bold; line-height: 1; border-radius: 0.35em; vertical-align: middle; margin-left: 0.5rem\">I-Antecedentes</span>\n",
       "</mark>\n",
       ". Metodología El estudio se realizó luego de transcurrir 60 minutos de la administración endovenosa de 6.2mCi de Flúor 18 Deoxi Glucosa (18FDG) con la constatación previa de 90mg/dl de glucemia en ayuno. Se adquirieron imágenes en 3D desde calota hasta los pies en un Tomógrafo por Emisión de Positrones PET/CT Discovery STE-16. Las imágenes luego fueron reconstruidas en cortes multiplanares. Resultado En las imágenes de PET/CT, se observa actividad metabólica fisiológica en cavidad oral, glándulas salivales y cuerdas vocales. No se observan adenopatías con captación anómala de FDG en cuello, ambas axilas, mediastino, abdomen y pelvis. Hígado y bazo de forma, tamaño y distribución habitual del radiotrazador. Moderada actividad fisiológica de FDG en el marco colónico. Ambos riñones funcionan y drenan adecuadamente. Resto del estudio abdomino-pelviano no presenta anomalías de captación del radiotrazador. Hallazgos ametabólicos en CT, se visualizan engrosamiento mucoso en ambos senos maxilares. Signos de enfisema en ambos campos pulmonares. Se observa en lóbulo pulmonar medio derecho imagen nodulillar parcialmente calcificada. Divertículos colónicos. Quistes renales izquierdos. El resto del estudio no presenta otros hallazgos significativos en las áreas exploradas. Conclusión El estudio PET/CT no evidencia captación patología de FDG. </div></span>"
      ],
      "text/plain": [
       "<IPython.core.display.HTML object>"
      ]
     },
     "metadata": {},
     "output_type": "display_data"
    },
    {
     "data": {
      "text/html": [
       "<span class=\"tex2jax_ignore\"><div class=\"entities\" style=\"line-height: 2.5; direction: ltr\">Antecedentes Paciente de 29 años de edad con diagnóstico de \n",
       "<mark class=\"entity\" style=\"background: #00FF00; padding: 0.45em 0.6em; margin: 0 0.25em; line-height: 1; border-radius: 0.35em;\">\n",
       "    Ca\n",
       "    <span style=\"font-size: 0.8em; font-weight: bold; line-height: 1; border-radius: 0.35em; vertical-align: middle; margin-left: 0.5rem\">B-Diagnóstico</span>\n",
       "</mark>\n",
       "\n",
       "<mark class=\"entity\" style=\"background: #00FF00; padding: 0.45em 0.6em; margin: 0 0.25em; line-height: 1; border-radius: 0.35em;\">\n",
       "    . de testículo\n",
       "    <span style=\"font-size: 0.8em; font-weight: bold; line-height: 1; border-radius: 0.35em; vertical-align: middle; margin-left: 0.5rem\">I-Diagnóstico</span>\n",
       "</mark>\n",
       " bilateral metacrónico. En 2011 realizó orquiectomía derecha (seminoma mixto), y luego recibió \n",
       "<mark class=\"entity\" style=\"background: #FFFF00; padding: 0.45em 0.6em; margin: 0 0.25em; line-height: 1; border-radius: 0.35em;\">\n",
       "    tratamiento\n",
       "    <span style=\"font-size: 0.8em; font-weight: bold; line-height: 1; border-radius: 0.35em; vertical-align: middle; margin-left: 0.5rem\">B-Antecedentes</span>\n",
       "</mark>\n",
       " \n",
       "<mark class=\"entity\" style=\"background: #FFFF00; padding: 0.45em 0.6em; margin: 0 0.25em; line-height: 1; border-radius: 0.35em;\">\n",
       "    quimioterápico adyuvante\n",
       "    <span style=\"font-size: 0.8em; font-weight: bold; line-height: 1; border-radius: 0.35em; vertical-align: middle; margin-left: 0.5rem\">I-Antecedentes</span>\n",
       "</mark>\n",
       ". En noviembre de 2016 fue \n",
       "<mark class=\"entity\" style=\"background: #FFFF00; padding: 0.45em 0.6em; margin: 0 0.25em; line-height: 1; border-radius: 0.35em;\">\n",
       "    reinter\n",
       "    <span style=\"font-size: 0.8em; font-weight: bold; line-height: 1; border-radius: 0.35em; vertical-align: middle; margin-left: 0.5rem\">B-Antecedentes</span>\n",
       "</mark>\n",
       "\n",
       "<mark class=\"entity\" style=\"background: #FFFF00; padding: 0.45em 0.6em; margin: 0 0.25em; line-height: 1; border-radius: 0.35em;\">\n",
       "    venido\n",
       "    <span style=\"font-size: 0.8em; font-weight: bold; line-height: 1; border-radius: 0.35em; vertical-align: middle; margin-left: 0.5rem\">I-Antecedentes</span>\n",
       "</mark>\n",
       " por \n",
       "<mark class=\"entity\" style=\"background: #00FF00; padding: 0.45em 0.6em; margin: 0 0.25em; line-height: 1; border-radius: 0.35em;\">\n",
       "    Ca\n",
       "    <span style=\"font-size: 0.8em; font-weight: bold; line-height: 1; border-radius: 0.35em; vertical-align: middle; margin-left: 0.5rem\">B-Diagnóstico</span>\n",
       "</mark>\n",
       "\n",
       "<mark class=\"entity\" style=\"background: #00FF00; padding: 0.45em 0.6em; margin: 0 0.25em; line-height: 1; border-radius: 0.35em;\">\n",
       "    . de\n",
       "    <span style=\"font-size: 0.8em; font-weight: bold; line-height: 1; border-radius: 0.35em; vertical-align: middle; margin-left: 0.5rem\">I-Diagnóstico</span>\n",
       "</mark>\n",
       " testículo izquierdo (seminoma clásico). Beta-GCH menor a 2mUI/ml, alfa fetoproteina 2ng/ml CEA menor a 0.5ng/ml. PET/CT para \n",
       "<mark class=\"entity\" style=\"background: #FF00FF; padding: 0.45em 0.6em; margin: 0 0.25em; line-height: 1; border-radius: 0.35em;\">\n",
       "    reestadificación\n",
       "    <span style=\"font-size: 0.8em; font-weight: bold; line-height: 1; border-radius: 0.35em; vertical-align: middle; margin-left: 0.5rem\">B-Objetivo</span>\n",
       "</mark>\n",
       ". Metodología El estudio se realizó luego de transcurrir 60 minutos de la administración endovenosa de 7.5mCi de Flúor 18 Deoxi Glucosa (18FDG) con la constatación previa de 94mg/dl de glucemia en ayuno. Se adquirieron imágenes en 3D desde base del cráneo hasta tercio medio de miembros inferiores en un Tomógrafo por Emisión de Positrones PET/CT Discovery STE-16. Las imágenes luego fueron reconstruidas en cortes multiplanares. Resultado Las imágenes de PET/CT, fueron comparadas con el estudio previo adjuntado del 22 de noviembre de 2017, donde en el presente examen no se identifican adenopatías con captación patológica del radiotrazador en cuello, axilas, mediastino, abdomen y pelvis. Huellas quirúrgicas de orquiectomía bilateral acorde al antecedente, sin evidenciarse focos con captación patológica de FDG. Hígado y bazo de forma, tamaño y distribución habitual del radiotrazador. Ambos riñones funcionan y drenan adecuadamente. Resto del estudio abdomino-pelviano no presenta anomalías de captación del radiotrazador. Hallazgos en CT ametabólicos, sin cambios significativos con respecto a estudio previo adjuntado. Conclusión El estudio PET/CT no evidencia captación patológica de FDG. </div></span>"
      ],
      "text/plain": [
       "<IPython.core.display.HTML object>"
      ]
     },
     "metadata": {},
     "output_type": "display_data"
    },
    {
     "data": {
      "text/html": [
       "<span class=\"tex2jax_ignore\"><div class=\"entities\" style=\"line-height: 2.5; direction: ltr\">Antecedentes Paciente de 58 años de edad con diagnóstico de \n",
       "<mark class=\"entity\" style=\"background: #00FF00; padding: 0.45em 0.6em; margin: 0 0.25em; line-height: 1; border-radius: 0.35em;\">\n",
       "    Ca\n",
       "    <span style=\"font-size: 0.8em; font-weight: bold; line-height: 1; border-radius: 0.35em; vertical-align: middle; margin-left: 0.5rem\">B-Diagnóstico</span>\n",
       "</mark>\n",
       " \n",
       "<mark class=\"entity\" style=\"background: #00FF00; padding: 0.45em 0.6em; margin: 0 0.25em; line-height: 1; border-radius: 0.35em;\">\n",
       "    de ovario\n",
       "    <span style=\"font-size: 0.8em; font-weight: bold; line-height: 1; border-radius: 0.35em; vertical-align: middle; margin-left: 0.5rem\">I-Diagnóstico</span>\n",
       "</mark>\n",
       " derecho (\n",
       "<mark class=\"entity\" style=\"background: #FFFF00; padding: 0.45em 0.6em; margin: 0 0.25em; line-height: 1; border-radius: 0.35em;\">\n",
       "    carcinoma\n",
       "    <span style=\"font-size: 0.8em; font-weight: bold; line-height: 1; border-radius: 0.35em; vertical-align: middle; margin-left: 0.5rem\">B-Antecedentes</span>\n",
       "</mark>\n",
       " seroso papilar de alto grado), \n",
       "<mark class=\"entity\" style=\"background: #FFFF00; padding: 0.45em 0.6em; margin: 0 0.25em; line-height: 1; border-radius: 0.35em;\">\n",
       "    operado\n",
       "    <span style=\"font-size: 0.8em; font-weight: bold; line-height: 1; border-radius: 0.35em; vertical-align: middle; margin-left: 0.5rem\">B-Antecedentes</span>\n",
       "</mark>\n",
       " en julio de 2017. La paciente recibió \n",
       "<mark class=\"entity\" style=\"background: #FFFF00; padding: 0.45em 0.6em; margin: 0 0.25em; line-height: 1; border-radius: 0.35em;\">\n",
       "    tratamiento\n",
       "    <span style=\"font-size: 0.8em; font-weight: bold; line-height: 1; border-radius: 0.35em; vertical-align: middle; margin-left: 0.5rem\">B-Antecedentes</span>\n",
       "</mark>\n",
       " \n",
       "<mark class=\"entity\" style=\"background: #FFFF00; padding: 0.45em 0.6em; margin: 0 0.25em; line-height: 1; border-radius: 0.35em;\">\n",
       "    quimioterápico\n",
       "    <span style=\"font-size: 0.8em; font-weight: bold; line-height: 1; border-radius: 0.35em; vertical-align: middle; margin-left: 0.5rem\">I-Antecedentes</span>\n",
       "</mark>\n",
       ", finalizándolo el 19/01/2018. Actualmente presenta \n",
       "<mark class=\"entity\" style=\"background: #FFFF00; padding: 0.45em 0.6em; margin: 0 0.25em; line-height: 1; border-radius: 0.35em;\">\n",
       "    incremento\n",
       "    <span style=\"font-size: 0.8em; font-weight: bold; line-height: 1; border-radius: 0.35em; vertical-align: middle; margin-left: 0.5rem\">B-Antecedentes</span>\n",
       "</mark>\n",
       " \n",
       "<mark class=\"entity\" style=\"background: #FFFF00; padding: 0.45em 0.6em; margin: 0 0.25em; line-height: 1; border-radius: 0.35em;\">\n",
       "    del CA\n",
       "    <span style=\"font-size: 0.8em; font-weight: bold; line-height: 1; border-radius: 0.35em; vertical-align: middle; margin-left: 0.5rem\">I-Antecedentes</span>\n",
       "</mark>\n",
       "-125: 58 U/ml. PET/CT para \n",
       "<mark class=\"entity\" style=\"background: #FF00FF; padding: 0.45em 0.6em; margin: 0 0.25em; line-height: 1; border-radius: 0.35em;\">\n",
       "    reestadificación\n",
       "    <span style=\"font-size: 0.8em; font-weight: bold; line-height: 1; border-radius: 0.35em; vertical-align: middle; margin-left: 0.5rem\">B-Objetivo</span>\n",
       "</mark>\n",
       ". Metodología El estudio se realizó luego de transcurrir 60 minutos de la administración endovenosa de 11.9mCi de Flúor 18 Deoxi Glucosa (18FDG) con la constatación previa de 135mg/dl de glucemia en ayuno. Se adquirieron imágenes en 3D desde base del cráneo hasta tercio medio de miembros inferiores en un Tomógrafo por Emisión de Positrones PET/CT Discovery STE-16. Las imágenes luego fueron reconstruidas en cortes multiplanares. Resultado En las imágenes de PET/CT, se observa actividad metabólica fisiológica en cavidad oral, glándulas salivales y cuerdas vocales. Se reconocen adenopatías con moderada a intensa avidez por FDG, en región interportocava, retroperitoneal prevertebral pericavoaórtico (a predominio derecho), ilíaca primitiva derecha, bifurcación aorto-ilíaca e ilíaca bilateral así como ambas cadenas ilíacas externas. La de mayor dimensión y actividad metabólica, se localiza en cadena ilíaca primitiva derecha, mide aproximadamente 12 x 13 mm de diámetro y presenta un SUVmax de 6. Además, se advierten otras imágenes ganglionares con moderada actividad metabólica (SUVmax: 2.2) en región yugulo careotidea derecha y hueco supraclavicular izquierdo, de aspecto inespecífico. La de mayor dimensión supraclavicular, mide aproximadamente 9x10mm de diámetro. Anivel de la cavidad pelviana en topografía de la lodge quirúrgica de anexectomía derecha, se advierte foco con intensa avidez por el radiotrazador con un SUVmax de 5.6, que se corresponde en TC con imagen pseudonodular sólida, sugestiva de implante peritoneal, en primer término. Aumento difuso y homogéneo de la captación de FDG (SUVmax: 7.9), a nivel de la glándula tiroides. Valorar con datos clínicos y de laboratorio. Hígado y bazo de forma, tamaño y distribución habitual del radiotrazador. Moderada actividad fisiológica de FDG en el marco colónico. Ambos riñones funcionan y drenan adecuadamente. Hallazgos ametabólicos en CT, se visualiza milimétrico nodulillo pulmonar inferior izquierdo, de características inespecíficas que se halla por debajo del poder resolutivo del PET. Litiasis vesicular. Huella quirúrgica mediana infraumbilical. El resto del estudio no presenta otros hallazgos significativos en las áreas exploradas. Conclusión El estudio PET/CT evidencia secundarismo ganglionar y probablemente peritoneal pelviano, metabólicamente activo. </div></span>"
      ],
      "text/plain": [
       "<IPython.core.display.HTML object>"
      ]
     },
     "metadata": {},
     "output_type": "display_data"
    },
    {
     "data": {
      "text/html": [
       "<span class=\"tex2jax_ignore\"><div class=\"entities\" style=\"line-height: 2.5; direction: ltr\">Antecedentes Paciente de 50 años de edad con diagnóstico de \n",
       "<mark class=\"entity\" style=\"background: #00FF00; padding: 0.45em 0.6em; margin: 0 0.25em; line-height: 1; border-radius: 0.35em;\">\n",
       "    Ca\n",
       "    <span style=\"font-size: 0.8em; font-weight: bold; line-height: 1; border-radius: 0.35em; vertical-align: middle; margin-left: 0.5rem\">B-Diagnóstico</span>\n",
       "</mark>\n",
       "\n",
       "<mark class=\"entity\" style=\"background: #00FF00; padding: 0.45em 0.6em; margin: 0 0.25em; line-height: 1; border-radius: 0.35em;\">\n",
       "    . de próstata\n",
       "    <span style=\"font-size: 0.8em; font-weight: bold; line-height: 1; border-radius: 0.35em; vertical-align: middle; margin-left: 0.5rem\">I-Diagnóstico</span>\n",
       "</mark>\n",
       " (Gleason 4+5=9), \n",
       "<mark class=\"entity\" style=\"background: #FFFF00; padding: 0.45em 0.6em; margin: 0 0.25em; line-height: 1; border-radius: 0.35em;\">\n",
       "    operado\n",
       "    <span style=\"font-size: 0.8em; font-weight: bold; line-height: 1; border-radius: 0.35em; vertical-align: middle; margin-left: 0.5rem\">B-Antecedentes</span>\n",
       "</mark>\n",
       " en agosto de 2016 (\n",
       "<mark class=\"entity\" style=\"background: #FFFF00; padding: 0.45em 0.6em; margin: 0 0.25em; line-height: 1; border-radius: 0.35em;\">\n",
       "    pros\n",
       "    <span style=\"font-size: 0.8em; font-weight: bold; line-height: 1; border-radius: 0.35em; vertical-align: middle; margin-left: 0.5rem\">B-Antecedentes</span>\n",
       "</mark>\n",
       "ta\n",
       "<mark class=\"entity\" style=\"background: #FFFF00; padding: 0.45em 0.6em; margin: 0 0.25em; line-height: 1; border-radius: 0.35em;\">\n",
       "    tectomía radical\n",
       "    <span style=\"font-size: 0.8em; font-weight: bold; line-height: 1; border-radius: 0.35em; vertical-align: middle; margin-left: 0.5rem\">I-Antecedentes</span>\n",
       "</mark>\n",
       "). El paciente recibió \n",
       "<mark class=\"entity\" style=\"background: #FFFF00; padding: 0.45em 0.6em; margin: 0 0.25em; line-height: 1; border-radius: 0.35em;\">\n",
       "    tratamiento\n",
       "    <span style=\"font-size: 0.8em; font-weight: bold; line-height: 1; border-radius: 0.35em; vertical-align: middle; margin-left: 0.5rem\">B-Antecedentes</span>\n",
       "</mark>\n",
       " \n",
       "<mark class=\"entity\" style=\"background: #FFFF00; padding: 0.45em 0.6em; margin: 0 0.25em; line-height: 1; border-radius: 0.35em;\">\n",
       "    quimioterápico\n",
       "    <span style=\"font-size: 0.8em; font-weight: bold; line-height: 1; border-radius: 0.35em; vertical-align: middle; margin-left: 0.5rem\">I-Antecedentes</span>\n",
       "</mark>\n",
       " (6 ciclos), finalizándolo en febrero de 2018. Presenta \n",
       "<mark class=\"entity\" style=\"background: #FFFF00; padding: 0.45em 0.6em; margin: 0 0.25em; line-height: 1; border-radius: 0.35em;\">\n",
       "    aumento\n",
       "    <span style=\"font-size: 0.8em; font-weight: bold; line-height: 1; border-radius: 0.35em; vertical-align: middle; margin-left: 0.5rem\">B-Antecedentes</span>\n",
       "</mark>\n",
       " de PSA (0.26ng/ml de febrero de 2019 vs previo de 0.17ng/ml de noviembre de 2018). PET/CT para \n",
       "<mark class=\"entity\" style=\"background: #FF00FF; padding: 0.45em 0.6em; margin: 0 0.25em; line-height: 1; border-radius: 0.35em;\">\n",
       "    reestadificación\n",
       "    <span style=\"font-size: 0.8em; font-weight: bold; line-height: 1; border-radius: 0.35em; vertical-align: middle; margin-left: 0.5rem\">B-Objetivo</span>\n",
       "</mark>\n",
       ". Metodología El estudio se realizó luego de transcurrir 60 minutos de la administración endovenosa de 2.95mCi de 68Ga-PSMA. Se adquirieron imágenes en 3D desde calota hasta tercio medio de los muslos en un Tomógrafo por Emisión de Positrones PET/CT Discovery 710 (64 cortes). Las imágenes luego fueron reconstruidas en cortes multiplanares. Resultados En las imágenes de PET/CT, se observa captación fisiológica en hipófisis, glándulas salivales, ambas glándulas suprarrenales y parénquimas renales. Huellas de prostatectomía radical acorde con antecedente, no advirtiéndose foco con captación patológica del radiotrazador a nivel de la lodge. Se advierte a nivel de la cadena ilíaca externa izquierda adenopatía subcentimétrica con moderada captación de 68Ga-PSMA (SUVmax: 2.5). Además, se mencionan otros milimétricos elementos ganglionares sin captación del radiofármaco localizados en retroperitoneo latero-aórtico izquierdo, ambas cadenas ilíacas primitivas y cadena ilíaca externa izquierda. Hígado y bazo muestran distribución habitual de 68Ga-PSMA. No se observan adenopatías con captación anómala del radiotrazador en cuello, ambas axilas y mediastino. Ambos riñones funcionan y drenan adecuadamente. Hallazgos ametabólicos en TC, se visualizan tractos fibroadherenciales pleuropulmonares bibasales. Pequeños quistes simples renales bilaterales. Hernia/eventración en situación paraumbilical izquierda, con contenido de asas intestinales delgadas. El resto del estudio no presenta otros hallazgos significativos en las áreas exploradas. Conclusiones El estudio PET/CT evidencia elementos ganglionares subcentimétricos en retroperitoneo latero-aórtico izquierdo, ambas cadenas ilíacas primitivas y externa izquierda, uno de ellos con moderada captación de 68Ga-PSMA (cadena ilíaca externa izquierda), vinculables con su enfermedad de base. Valorar en contexto clínico. </div></span>"
      ],
      "text/plain": [
       "<IPython.core.display.HTML object>"
      ]
     },
     "metadata": {},
     "output_type": "display_data"
    },
    {
     "data": {
      "text/html": [
       "<span class=\"tex2jax_ignore\"><div class=\"entities\" style=\"line-height: 2.5; direction: ltr\">Antecedentes Paciente de 51 años de edad con \n",
       "<mark class=\"entity\" style=\"background: #00FF00; padding: 0.45em 0.6em; margin: 0 0.25em; line-height: 1; border-radius: 0.35em;\">\n",
       "    imagen\n",
       "    <span style=\"font-size: 0.8em; font-weight: bold; line-height: 1; border-radius: 0.35em; vertical-align: middle; margin-left: 0.5rem\">B-Diagnóstico</span>\n",
       "</mark>\n",
       " \n",
       "<mark class=\"entity\" style=\"background: #00FF00; padding: 0.45em 0.6em; margin: 0 0.25em; line-height: 1; border-radius: 0.35em;\">\n",
       "    pulmonar\n",
       "    <span style=\"font-size: 0.8em; font-weight: bold; line-height: 1; border-radius: 0.35em; vertical-align: middle; margin-left: 0.5rem\">I-Diagnóstico</span>\n",
       "</mark>\n",
       " derecha en estudio hallada en TC de septiembre de 2018. PET/CT para \n",
       "<mark class=\"entity\" style=\"background: #FF00FF; padding: 0.45em 0.6em; margin: 0 0.25em; line-height: 1; border-radius: 0.35em;\">\n",
       "    evaluación\n",
       "    <span style=\"font-size: 0.8em; font-weight: bold; line-height: 1; border-radius: 0.35em; vertical-align: middle; margin-left: 0.5rem\">B-Objetivo</span>\n",
       "</mark>\n",
       ". Metodología El estudio se realizó luego de transcurrir 60 minutos de la administración endovenosa de 4.9mCi de Flúor 18 Deoxi Glucosa (18FDG) con la constatación previa de 102mg/dl de glucemia en ayuno. Se adquirieron imágenes en 3D desde base del cráneo hasta tercio medio de miembros inferiores en un Tomógrafo por Emisión de Positrones PET/CT GE OPTIMA 560. Las imágenes luego fueron reconstruidas en cortes multiplanares. Resultado En las imágenes de PET/CT, se observa actividad metabólica fisiológica en cavidad oral, glándulas salivales y cuerdas vocales. En el lóbulo medio pulmonar, en situación subpleural, se reconoce opacidad de configuración laminar, que a nivel de su sector caudal adquiere morfología pseudonodular, de márgenes irregulares y mínima captación de FDG, con un SUVmax de 1.1. Se acompaña de tenues infiltrados parenquimatosos adyacentes. No se observan adenopatías con captación anómala de FDG en cuello, ambas axilas, mediastino, abdomen y pelvis. Hígado, bazo y ambas glándulas suprarrenales de forma, tamaño y distribución habitual del radiotrazador. Moderada actividad fisiológica de FDG en el marco colónico. Ambos riñones funcionan y drenan adecuadamente. Resto del estudio abdomino-pelviano no presenta anomalías de captación del radiotrazador. pellido y Hallazgos ametabólicos en TC: el resto del estudio no presenta otros hallazgos significativos en las áreas exploradas. Conclusión El estudio PET/CT evidencia opacidad pseudonodular pulmonar inferior derecha cuyas características morfo-metabólicas orientan a benignidad en primer término (naturaleza inflamatoria secuelar / atelectásica acorde con antecedente remitido). No obstante se sugiere su control en tiempo prudencial. </div></span>"
      ],
      "text/plain": [
       "<IPython.core.display.HTML object>"
      ]
     },
     "metadata": {},
     "output_type": "display_data"
    },
    {
     "data": {
      "text/html": [
       "<span class=\"tex2jax_ignore\"><div class=\"entities\" style=\"line-height: 2.5; direction: ltr\">Antecedentes Paciente de 21 años de edad con diagnóstico de \n",
       "<mark class=\"entity\" style=\"background: #00FF00; padding: 0.45em 0.6em; margin: 0 0.25em; line-height: 1; border-radius: 0.35em;\">\n",
       "    Ca\n",
       "    <span style=\"font-size: 0.8em; font-weight: bold; line-height: 1; border-radius: 0.35em; vertical-align: middle; margin-left: 0.5rem\">B-Diagnóstico</span>\n",
       "</mark>\n",
       " \n",
       "<mark class=\"entity\" style=\"background: #00FF00; padding: 0.45em 0.6em; margin: 0 0.25em; line-height: 1; border-radius: 0.35em;\">\n",
       "    de recto\n",
       "    <span style=\"font-size: 0.8em; font-weight: bold; line-height: 1; border-radius: 0.35em; vertical-align: middle; margin-left: 0.5rem\">I-Diagnóstico</span>\n",
       "</mark>\n",
       " superior a través de \n",
       "<mark class=\"entity\" style=\"background: #FFFF00; padding: 0.45em 0.6em; margin: 0 0.25em; line-height: 1; border-radius: 0.35em;\">\n",
       "    biopsia\n",
       "    <span style=\"font-size: 0.8em; font-weight: bold; line-height: 1; border-radius: 0.35em; vertical-align: middle; margin-left: 0.5rem\">B-Antecedentes</span>\n",
       "</mark>\n",
       " en julio de 2014. Presenta lesión hepática en estudio. PET/CT para \n",
       "<mark class=\"entity\" style=\"background: #FF00FF; padding: 0.45em 0.6em; margin: 0 0.25em; line-height: 1; border-radius: 0.35em;\">\n",
       "    estadificación\n",
       "    <span style=\"font-size: 0.8em; font-weight: bold; line-height: 1; border-radius: 0.35em; vertical-align: middle; margin-left: 0.5rem\">B-Objetivo</span>\n",
       "</mark>\n",
       ". Metodología El estudio se realizó luego de transcurrir 60 minutos de la administración endovenosa de 5.67 mCi de Flúor 18 Deoxi Glucosa (18FDG) con la constatación previa de 92 mg/dl de glucemia en ayuno. Se adquirieron imágenes en 3D desde base del cráneo hasta tercio medio de miembros inferiores en un Tomógrafo por Emisión de Positrones PET/CT Discovery STE-16. Las imágenes luego fueron reconstruidas en cortes multiplanares. Resultado En las imágenes de PET/CT, se reconoce engrosamiento parietal circunferencial asimétrico e irregular del recto superior/unión recto sigmoidea que presenta intensa captación de FDG (SUVmax: 5.9). Se acompaña de densificación de los planos grasos adyacentes y presencia de adenopatías mesorrectales con leve avidez por el radiotrazador (SUVmax: 1.5), la de mayor dimensión, en el sector derecho, mide aproximadamente 8 x 11 mm de diámetro. A nivel centro-abdomino-pelviano y predominantemente hacia la derecha, se visualiza voluminosa formación heterogénea sólido-quística, multipseptada, de límites pocos precisos, que mide aproximadamente 19 cm. de diámetro transverso máximo, la cual muestra, en sus sectores sólidos, incremento de la actividad metabólica (SUVmax: 4.8), mientras que las áreas hipodensas de aspecto quístico son ametabólicas. Cabe mencionar que no es posible discriminar dicha formación de probables implantes peritoneales confluentes adyacentes. En topografía del domo hepático, segmento VIII, se objetiva un foco moderada avidez por FDG (SUVmax: 2.3), que se traduce en TC como imagen nodular hipodensa que mide aproximadamente 13 mm de diámetro. No se observan adenopatías con captación anómala de FDG en ambas axilas, mediastino. Bazo de forma, tamaño y distribución habitual del radiotrazador. Ambos riñones funcionan y drenan adecuadamente. Resto del estudio abdomino-pelviano no presenta anomalías de captación del radiotrazador. Hallazgos ametabólicos en CT, se visualizan ambos campos pulmonares libres. Discreta cantidad de líquido libre intraabdominal de distribución perihepática, periesplénica, en ambos espacios parietocólicos y fondo de saco de Douglas. El resto del estudio no presenta otros hallazgos significativos en las áreas exploradas. Conclusión Estudio PET/CT compatible con lesión primitiva hipermetabólica a nivel del recto superior/unión recto sigmoidea con compromiso ganglionar mesorrectal y secundarismo hepático único asociado metabólicamente activo. Extensa formación sólido-quística centro-abdominopelviana metabólicamente activa, por presumible secundarismo peritoneal. </div></span>"
      ],
      "text/plain": [
       "<IPython.core.display.HTML object>"
      ]
     },
     "metadata": {},
     "output_type": "display_data"
    },
    {
     "data": {
      "text/html": [
       "<span class=\"tex2jax_ignore\"><div class=\"entities\" style=\"line-height: 2.5; direction: ltr\">Antecedentes Paciente de 58 años de edad con diagnóstico de \n",
       "<mark class=\"entity\" style=\"background: #00FF00; padding: 0.45em 0.6em; margin: 0 0.25em; line-height: 1; border-radius: 0.35em;\">\n",
       "    Ca\n",
       "    <span style=\"font-size: 0.8em; font-weight: bold; line-height: 1; border-radius: 0.35em; vertical-align: middle; margin-left: 0.5rem\">B-Diagnóstico</span>\n",
       "</mark>\n",
       "\n",
       "<mark class=\"entity\" style=\"background: #00FF00; padding: 0.45em 0.6em; margin: 0 0.25em; line-height: 1; border-radius: 0.35em;\">\n",
       "    . de próstata\n",
       "    <span style=\"font-size: 0.8em; font-weight: bold; line-height: 1; border-radius: 0.35em; vertical-align: middle; margin-left: 0.5rem\">I-Diagnóstico</span>\n",
       "</mark>\n",
       " (ADC Gleason 3+3=6) en febrero de 2019. PET/CT para \n",
       "<mark class=\"entity\" style=\"background: #FF00FF; padding: 0.45em 0.6em; margin: 0 0.25em; line-height: 1; border-radius: 0.35em;\">\n",
       "    estadificación\n",
       "    <span style=\"font-size: 0.8em; font-weight: bold; line-height: 1; border-radius: 0.35em; vertical-align: middle; margin-left: 0.5rem\">B-Objetivo</span>\n",
       "</mark>\n",
       ". Metodología El estudio se realizó luego de transcurrir 60 minutos de la administración endovenosa de 3.1mCi de 68Ga-PSMA. Se adquirieron imágenes en 3D desde calota hasta tercio medio de los muslos en un Tomógrafo por Emisión de Positrones PET/CT Discovery STE-16. Las imágenes luego fueron reconstruidas en cortes multiplanares. Resultados En las imágenes de PET/CT, se observa captación fisiológica en glándulas lagrimales, glándulas salivales y parénquimas renales. Se advierte incremento heterogéneo de la captación del radiotrazador a nivel de la glándula prostatica (SUVmax: 3.1), sin claro correlato en TC. Hígado, bazo y páncreas muestran distribución habitual de 68Ga-PSMA. No se observan adenopatías con captación anómala del radiotrazador en cuello, ambas axilas, mediastino, abdomen y pelvis. Ambos riñones funcionan y drenan adecuadamente. Resto del estudio abdomino-pelviano no presenta anomalías de captación del radiotrazador. Hallazgos no hipercaptantes en TC, se visualizan engrosamientos mucosos perimetrales en ambos seno maxilares y seno esfenoidal. Tractos densos pleuron pulmonares bibasales de aspecto secuelar. Imagen quística en segmento VI hepático y en ambos riñones a predominio renal derecho. Imagen compatible con lipoma en el plano muscular del los obturadores derechos. Tenue rarefacción ósea en topografía occipito-parietal bilateral, sin captación patológica del radiotrazador. Signo degenerativos del raquis cervico-dorsal. El resto del estudio no presenta otros hallazgos significativos en las áreas exploradas. Conclusiones El estudio PET/CT evidencia lesión primitiva prostática con captación heterogénea del 68Ga-PSMA. Resto de barrido corporal sin captación patológica del radiotrazador. </div></span>"
      ],
      "text/plain": [
       "<IPython.core.display.HTML object>"
      ]
     },
     "metadata": {},
     "output_type": "display_data"
    },
    {
     "data": {
      "text/html": [
       "<span class=\"tex2jax_ignore\"><div class=\"entities\" style=\"line-height: 2.5; direction: ltr\">Antecedentes Paciente de 65 años de edad con \n",
       "<mark class=\"entity\" style=\"background: #00FF00; padding: 0.45em 0.6em; margin: 0 0.25em; line-height: 1; border-radius: 0.35em;\">\n",
       "    imagen\n",
       "    <span style=\"font-size: 0.8em; font-weight: bold; line-height: 1; border-radius: 0.35em; vertical-align: middle; margin-left: 0.5rem\">B-Diagnóstico</span>\n",
       "</mark>\n",
       " \n",
       "<mark class=\"entity\" style=\"background: #00FF00; padding: 0.45em 0.6em; margin: 0 0.25em; line-height: 1; border-radius: 0.35em;\">\n",
       "    nodular pulmonar\n",
       "    <span style=\"font-size: 0.8em; font-weight: bold; line-height: 1; border-radius: 0.35em; vertical-align: middle; margin-left: 0.5rem\">I-Diagnóstico</span>\n",
       "</mark>\n",
       " izquierda en estudio. PET/CT para \n",
       "<mark class=\"entity\" style=\"background: #FF00FF; padding: 0.45em 0.6em; margin: 0 0.25em; line-height: 1; border-radius: 0.35em;\">\n",
       "    evaluación\n",
       "    <span style=\"font-size: 0.8em; font-weight: bold; line-height: 1; border-radius: 0.35em; vertical-align: middle; margin-left: 0.5rem\">B-Objetivo</span>\n",
       "</mark>\n",
       ". Metodología El estudio se realizó luego de transcurrir 60 minutos de la administración endovenosa de 7.8 mCi de Flúor 18 Deoxi Glucosa (18FDG) con la constatación previa de 96 mg/dl de glucemia en ayuno. Se adquirieron imágenes en 3D desde base del cráneo hasta tercio medio de miembros inferiores en un Tomógrafo por Emisión de Positrones PET/CT Discovery STE-16. Las imágenes luego fueron reconstruidas en cortes multiplanares. Resultado En las imágenes de PET/CT, se observa actividad metabólica fisiológica en cavidad oral, glándulas salivales y cuerdas vocales. En el lóbulo pulmonar inferior izquierdo, segmento posterior, se reconoce imagen pseudonodular con leve actividad metabólica (SUVmax: 1.7) que mide aproximadamente 16mm de diámetro y presenta amplio contacto pleural. Además se advierte nodulillo pulmonar superior derecho, yuxtacisural, que se encuentra por debajo del poder resolutivo del PET. Llama la atención moderado incremento difuso de captación de FDG a nivel de la aorta torácica, a correlacionar con clínica y antecedentes (inflamatorio?). No se observan adenopatías con captación anómala de FDG en cuello, ambas axilas, mediastino, abdomen y pelvis. Hígado y bazo de forma, tamaño y distribución habitual del radiotrazador. Moderada actividad fisiológica de FDG en el marco colónico. Ambos riñones funcionan y drenan adecuadamente. Resto del estudio abdomino-pelviano no presenta anomalías de captación del radiotrazador. Hallazgos ametabólicos en TC, se visualizan imágenes cálcicas de aspecto secuelar en segmento VI hepático. El resto del estudio no presenta otros hallazgos significativos en las áreas exploradas. Conclusión El estudio PET/CT evidencia imagen pseudonodular pulmonar inferior izquierda con leve actividad metabólica, de etiología a determinar. Resto del examen sin otro foco con captación patológica de FDG. </div></span>"
      ],
      "text/plain": [
       "<IPython.core.display.HTML object>"
      ]
     },
     "metadata": {},
     "output_type": "display_data"
    }
   ],
   "source": [
    "# get HTML representation of NER of our text\n",
    "for text in studies[1020:1030]:\n",
    "    doc_ner = ner(text)\n",
    "    get_entities_html(text, doc_ner)"
   ]
  },
  {
   "cell_type": "code",
   "execution_count": null,
   "metadata": {},
   "outputs": [],
   "source": []
  }
 ],
 "metadata": {
  "interpreter": {
   "hash": "67aa99efbe7834945734ac36b4ba76a4854afbe6d5d1e75f890dac046309e9b1"
  },
  "kernelspec": {
   "display_name": "Python 3.8.11 ('bert')",
   "language": "python",
   "name": "python3"
  },
  "language_info": {
   "codemirror_mode": {
    "name": "ipython",
    "version": 3
   },
   "file_extension": ".py",
   "mimetype": "text/x-python",
   "name": "python",
   "nbconvert_exporter": "python",
   "pygments_lexer": "ipython3",
   "version": "3.8.11"
  },
  "orig_nbformat": 4
 },
 "nbformat": 4,
 "nbformat_minor": 2
}
